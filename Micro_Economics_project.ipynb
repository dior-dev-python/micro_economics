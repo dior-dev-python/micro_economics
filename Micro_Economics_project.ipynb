{
  "nbformat": 4,
  "nbformat_minor": 0,
  "metadata": {
    "colab": {
      "private_outputs": true,
      "provenance": [],
      "authorship_tag": "ABX9TyNoAhrYT2XrKCFQMe/WtD/2",
      "include_colab_link": true
    },
    "kernelspec": {
      "name": "python3",
      "display_name": "Python 3"
    },
    "language_info": {
      "name": "python"
    }
  },
  "cells": [
    {
      "cell_type": "markdown",
      "metadata": {
        "id": "view-in-github",
        "colab_type": "text"
      },
      "source": [
        "<a href=\"https://colab.research.google.com/github/dior-dev-python/micro_economics/blob/main/Micro_Economics_project.ipynb\" target=\"_parent\"><img src=\"https://colab.research.google.com/assets/colab-badge.svg\" alt=\"Open In Colab\"/></a>"
      ]
    },
    {
      "cell_type": "code",
      "execution_count": null,
      "metadata": {
        "id": "Pforn2k-eKNw"
      },
      "outputs": [],
      "source": [
        "pip install matplotlib\n"
      ]
    },
    {
      "cell_type": "code",
      "source": [
        "import matplotlib.pyplot as plt\n",
        "\n",
        "max_military = 400\n",
        "max_consumer = 800\n",
        "\n",
        "military_goods = [0, 240, max_military]\n",
        "\n",
        "consumer_goods = [max_consumer, 320, 0]\n",
        "\n",
        "plt.figure(figsize=(8, 6))\n",
        "plt.plot(military_goods, consumer_goods, marker='o')\n",
        "\n",
        "plt.text(240, 320, ' (240, 320)', fontsize=9, verticalalignment='bottom')\n",
        "\n",
        "plt.xlabel('Harbiy Tovarlar (birlik)')\n",
        "plt.ylabel('Iste\\'mol Tovarlar (birlik)')\n",
        "\n",
        "plt.title('Imkoniyatlar Egri Chizig\\'i (PPF)')\n",
        "\n",
        "plt.grid(True)\n",
        "\n",
        "plt.show()\n"
      ],
      "metadata": {
        "id": "qErH3uj0eSww"
      },
      "execution_count": null,
      "outputs": []
    },
    {
      "cell_type": "code",
      "source": [
        "import matplotlib.pyplot as plt\n",
        "\n",
        "kompyuterlar = [0, 4000]\n",
        "planshetlar = [6000, 0]\n",
        "\n",
        "plt.figure(figsize=(8, 6))\n",
        "plt.plot(kompyuterlar, planshetlar, marker='o')\n",
        "plt.title('5 Yillik Ishlab Chiqarish Imkoniyatlari Egri Chizigi (PPF)')\n",
        "plt.xlabel('Kompyuterlar Soni')\n",
        "plt.ylabel('Planshetlar Soni')\n",
        "plt.grid(True)\n",
        "plt.show()\n"
      ],
      "metadata": {
        "id": "46rAaE7fgGrj"
      },
      "execution_count": null,
      "outputs": []
    },
    {
      "cell_type": "code",
      "source": [
        "import matplotlib.pyplot as plt\n",
        "\n",
        "max_books = 1500\n",
        "max_courses = 750\n",
        "\n",
        "books = [0, 300, max_books]\n",
        "\n",
        "courses = [max_courses, 600, 0]\n",
        "\n",
        "plt.figure(figsize=(8, 6))\n",
        "plt.plot(books, courses, marker='o')\n",
        "plt.title('3 Yillik Ishlab Chiqarish Imkoniyatlari Egri Chizigi (PPF)')\n",
        "plt.xlabel('Darsliklar Soni')\n",
        "plt.ylabel('Onlayn Kurslar Soni')\n",
        "plt.grid(True)\n",
        "plt.show()\n"
      ],
      "metadata": {
        "id": "aJpS3NmOhDF2"
      },
      "execution_count": null,
      "outputs": []
    },
    {
      "cell_type": "code",
      "source": [
        "import matplotlib.pyplot as plt\n",
        "\n",
        "max_defense = 200\n",
        "max_welfare = 120\n",
        "\n",
        "defense_spending = [0, 160, max_defense]\n",
        "welfare_spending = [max_welfare, 24, 0]\n",
        "\n",
        "plt.figure(figsize=(8, 6))\n",
        "plt.plot(defense_spending, welfare_spending, marker='o')\n",
        "plt.title('4 Yillik Imkoniyatlar Egri Chizigi (PPF)')\n",
        "plt.xlabel('Mudofaa uchun Sarflangan Mablag\\' (Milliard Dollar)')\n",
        "plt.ylabel('Farovonlik uchun Sarflangan Mablag\\' (Milliard Dollar)')\n",
        "plt.grid(True)\n",
        "plt.show()\n"
      ],
      "metadata": {
        "id": "0hlEt84Oh1f9"
      },
      "execution_count": null,
      "outputs": []
    }
  ]
}